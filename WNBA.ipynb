{
 "cells": [
  {
   "cell_type": "code",
   "execution_count": null,
   "metadata": {},
   "outputs": [
    {
     "name": "stdout",
     "output_type": "stream",
     "text": [
      "No table found for letter 'A'.\n",
      "No table found for letter 'B'.\n",
      "No table found for letter 'C'.\n",
      "No table found for letter 'D'.\n",
      "No table found for letter 'E'.\n",
      "No table found for letter 'F'.\n",
      "No table found for letter 'G'.\n",
      "No table found for letter 'H'.\n",
      "No table found for letter 'I'.\n",
      "No table found for letter 'J'.\n",
      "No table found for letter 'K'.\n",
      "No table found for letter 'L'.\n",
      "No table found for letter 'M'.\n",
      "No table found for letter 'N'.\n",
      "No table found for letter 'O'.\n",
      "No table found for letter 'P'.\n",
      "No table found for letter 'Q'.\n",
      "No table found for letter 'R'.\n",
      "No table found for letter 'S'.\n",
      "No table found for letter 'T'.\n",
      "No table found for letter 'U'.\n",
      "No table found for letter 'V'.\n",
      "No table found for letter 'W'.\n",
      "No table found for letter 'X'.\n",
      "No table found for letter 'Y'.\n",
      "No table found for letter 'Z'.\n",
      "Fetched data for 0 players.\n"
     ]
    }
   ],
   "source": [
    "ne"
   ]
  }
 ],
 "metadata": {
  "kernelspec": {
   "display_name": "base",
   "language": "python",
   "name": "python3"
  },
  "language_info": {
   "codemirror_mode": {
    "name": "ipython",
    "version": 3
   },
   "file_extension": ".py",
   "mimetype": "text/x-python",
   "name": "python",
   "nbconvert_exporter": "python",
   "pygments_lexer": "ipython3",
   "version": "3.11.5"
  }
 },
 "nbformat": 4,
 "nbformat_minor": 2
}
