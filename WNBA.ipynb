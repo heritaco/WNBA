{
 "cells": [
  {
   "cell_type": "code",
   "execution_count": 21,
   "metadata": {},
   "outputs": [
    {
     "name": "stdout",
     "output_type": "stream",
     "text": [
      "10\n"
     ]
    }
   ],
   "source": [
    "n = 5\n",
    "m = 5\n",
    "k = 20\n",
    "x = 2\n",
    "y = 3\n",
    "\n",
    "\n",
    "    # n pisos\n",
    "    # m ventanas\n",
    "\n",
    "    # x costo de moverse en ventanas\n",
    "    # y costo de moverse en pisos\n",
    "\n",
    "    # k total de energia\n",
    "\n",
    "nn = 0\n",
    "mm = 0\n",
    "kk = 0\n",
    "empleados = 0\n",
    "\n",
    "\n",
    "if x <= y:              # si es mas barato moverse en pisos\n",
    "    for _ in range(n*m):  # para cada piso\n",
    "        empleados += 1  # saludamos a un empleado\n",
    "        nn += 1         # nos movemos \"a la derecha\"\n",
    "        k -= x         # kk nos costo k\n",
    "        if nn == n:     # si llegamos al final de los pisos\n",
    "            mm += 1     # nos movemos \"arriba\"\n",
    "            k -= y     # kk nos costo k\n",
    "            nn = 0      # estamos hasta \"la derecha\"\n",
    "            empleados += 1 # saludamos a un empleado\n",
    "        if k <= 0:     # si no tenemos energia\n",
    "            break\n",
    "\n",
    "else:                   # si es mas barato moverse en ventanas\n",
    "    for _ in range(n*m):\n",
    "        empleados += 1\n",
    "        mm += 1\n",
    "        k -= y\n",
    "        if mm == m:\n",
    "            nn += 1\n",
    "            k -= x\n",
    "            mm = 0\n",
    "            empleados += 1\n",
    "        if k <= 0:\n",
    "            break\n",
    "\n",
    "print(empleados)"
   ]
  }
 ],
 "metadata": {
  "kernelspec": {
   "display_name": "GDA",
   "language": "python",
   "name": "python3"
  },
  "language_info": {
   "codemirror_mode": {
    "name": "ipython",
    "version": 3
   },
   "file_extension": ".py",
   "mimetype": "text/x-python",
   "name": "python",
   "nbconvert_exporter": "python",
   "pygments_lexer": "ipython3",
   "version": "3.9.21"
  }
 },
 "nbformat": 4,
 "nbformat_minor": 2
}
